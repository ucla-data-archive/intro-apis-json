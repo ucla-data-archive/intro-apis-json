{
 "cells": [
  {
   "cell_type": "code",
   "execution_count": 2,
   "metadata": {},
   "outputs": [
    {
     "name": "stdout",
     "output_type": "stream",
     "text": [
      "Collecting swapi\n",
      "  Downloading https://files.pythonhosted.org/packages/81/be/f8522ef8c7145309dfddb19376f486d3afc2ad1f09b65b22d5bf14d091ce/swapi-0.1.3-py2.py3-none-any.whl\n",
      "Collecting six==1.8.0 (from swapi)\n",
      "  Downloading https://files.pythonhosted.org/packages/a2/4b/2b4532b4eba116a02fc0b5e0b3540a073a61c003b7b6293b7b884afa8ff1/six-1.8.0-py2.py3-none-any.whl\n",
      "Collecting ujson==1.33 (from swapi)\n",
      "\u001b[?25l  Downloading https://files.pythonhosted.org/packages/98/8c/47949a4e454b7ee27cf82a81735414187368fb94bae94de0291903c9881b/ujson-1.33.zip (197kB)\n",
      "\u001b[K    100% |████████████████████████████████| 204kB 4.6MB/s ta 0:00:01\n",
      "\u001b[?25hCollecting requests==2.5.0 (from swapi)\n",
      "\u001b[?25l  Downloading https://files.pythonhosted.org/packages/32/0e/11cfb3a5e269605d0bbe3bbca9845da9b57aed90e75bd489e5e7e3509c13/requests-2.5.0-py2.py3-none-any.whl (464kB)\n",
      "\u001b[K    100% |████████████████████████████████| 471kB 2.7MB/s ta 0:00:011\n",
      "\u001b[?25hBuilding wheels for collected packages: ujson\n",
      "  Running setup.py bdist_wheel for ujson ... \u001b[?25ldone\n",
      "\u001b[?25h  Stored in directory: /Users/timdennis/Library/Caches/pip/wheels/9c/43/b5/e372ab2a0387c074de2e1aaff86ea1d331bcb8618071dcf7c0\n",
      "Successfully built ujson\n",
      "\u001b[31mtables 3.4.4 has requirement six>=1.9.0, but you'll have six 1.8.0 which is incompatible.\u001b[0m\n",
      "\u001b[31mscikit-image 0.14.1 has requirement six>=1.10.0, but you'll have six 1.8.0 which is incompatible.\u001b[0m\n",
      "\u001b[31mpytest 4.1.1 has requirement six>=1.10.0, but you'll have six 1.8.0 which is incompatible.\u001b[0m\n",
      "\u001b[31mprompt-toolkit 2.0.7 has requirement six>=1.9.0, but you'll have six 1.8.0 which is incompatible.\u001b[0m\n",
      "\u001b[31mhtml5lib 1.0.1 has requirement six>=1.9, but you'll have six 1.8.0 which is incompatible.\u001b[0m\n",
      "\u001b[31mfaker 1.0.1 has requirement six>=1.10, but you'll have six 1.8.0 which is incompatible.\u001b[0m\n",
      "\u001b[31mbleach 3.1.0 has requirement six>=1.9.0, but you'll have six 1.8.0 which is incompatible.\u001b[0m\n",
      "\u001b[31manaconda-client 1.7.2 has requirement requests>=2.9.1, but you'll have requests 2.5.0 which is incompatible.\u001b[0m\n",
      "Installing collected packages: six, ujson, requests, swapi\n",
      "  Found existing installation: six 1.12.0\n",
      "    Uninstalling six-1.12.0:\n",
      "      Successfully uninstalled six-1.12.0\n",
      "  Found existing installation: requests 2.21.0\n",
      "    Uninstalling requests-2.21.0:\n",
      "      Successfully uninstalled requests-2.21.0\n",
      "Successfully installed requests-2.5.0 six-1.8.0 swapi-0.1.3 ujson-1.33\n"
     ]
    }
   ],
   "source": [
    "!pip install swapi\n",
    "import swapi"
   ]
  },
  {
   "cell_type": "code",
   "execution_count": 3,
   "metadata": {},
   "outputs": [],
   "source": [
    "empire = swapi.get_film(2)"
   ]
  },
  {
   "cell_type": "code",
   "execution_count": 4,
   "metadata": {},
   "outputs": [],
   "source": [
    "empirePlanets = empire.get_planets()"
   ]
  },
  {
   "cell_type": "code",
   "execution_count": 5,
   "metadata": {},
   "outputs": [
    {
     "name": "stdout",
     "output_type": "stream",
     "text": [
      "Ord Mantell 4000000000\n",
      "Bespin 6000000\n",
      "Hoth unknown\n",
      "Dagobah unknown\n"
     ]
    }
   ],
   "source": [
    "for planet in empirePlanets.order_by(\"population\"):\n",
    "    print(planet.name, planet.population)"
   ]
  },
  {
   "cell_type": "code",
   "execution_count": 12,
   "metadata": {},
   "outputs": [],
   "source": [
    "films = swapi.get_all('films')"
   ]
  },
  {
   "cell_type": "code",
   "execution_count": 15,
   "metadata": {},
   "outputs": [
    {
     "data": {
      "text/plain": [
       "swapi.models.FilmQuerySet"
      ]
     },
     "execution_count": 15,
     "metadata": {},
     "output_type": "execute_result"
    }
   ],
   "source": [
    "type(films)"
   ]
  },
  {
   "cell_type": "code",
   "execution_count": 17,
   "metadata": {},
   "outputs": [
    {
     "name": "stdout",
     "output_type": "stream",
     "text": [
      "<Film - A New Hope>\n",
      "<Film - Attack of the Clones>\n",
      "<Film - The Phantom Menace>\n",
      "<Film - Revenge of the Sith>\n",
      "<Film - Return of the Jedi>\n",
      "<Film - The Empire Strikes Back>\n",
      "<Film - The Force Awakens>\n"
     ]
    }
   ],
   "source": [
    "for fi in films.items:\n",
    "    print(fi)"
   ]
  },
  {
   "cell_type": "code",
   "execution_count": 18,
   "metadata": {},
   "outputs": [
    {
     "data": {
      "text/plain": [
       "<bound method BaseQuerySet.count of <FilmQuerySet - 7>>"
      ]
     },
     "execution_count": 18,
     "metadata": {},
     "output_type": "execute_result"
    }
   ],
   "source": [
    "films.count"
   ]
  },
  {
   "cell_type": "code",
   "execution_count": 19,
   "metadata": {},
   "outputs": [
    {
     "data": {
      "text/plain": [
       "<bound method BaseQuerySet.iter of <FilmQuerySet - 7>>"
      ]
     },
     "execution_count": 19,
     "metadata": {},
     "output_type": "execute_result"
    }
   ],
   "source": [
    "films.iter"
   ]
  },
  {
   "cell_type": "code",
   "execution_count": null,
   "metadata": {},
   "outputs": [],
   "source": []
  }
 ],
 "metadata": {
  "kernelspec": {
   "display_name": "Python 3",
   "language": "python",
   "name": "python3"
  },
  "language_info": {
   "codemirror_mode": {
    "name": "ipython",
    "version": 3
   },
   "file_extension": ".py",
   "mimetype": "text/x-python",
   "name": "python",
   "nbconvert_exporter": "python",
   "pygments_lexer": "ipython3",
   "version": "3.6.8"
  }
 },
 "nbformat": 4,
 "nbformat_minor": 2
}
